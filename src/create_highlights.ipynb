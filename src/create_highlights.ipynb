{
 "cells": [
  {
   "cell_type": "code",
   "execution_count": 1,
   "metadata": {},
   "outputs": [],
   "source": [
    "# Set team names\n",
    "non_bibs_team_name = \"Pure Filth\"\n",
    "bibs_team_name = \"Nice and Tidy\"\n",
    "team_n = [\"Alex\", \"Azamat\", \"David J\", \"Henry\", \"Joe\", \"Tom\", \"Yi\"]\n",
    "team_b = [\"Kevin\", \"Sam\", \"Stu\", \"Theo\", \"Yaw\", \"Chris\", \"Nik\"]\n",
    "\n",
    "\n",
    "non_bibs_team = {\n",
    "    \"name\": non_bibs_team_name,\n",
    "    \"players\": team_n,\n",
    "    \"captain\": team_n[0]  # Assuming the first player is the captain\n",
    "}\n",
    "\n",
    "bibs_team = {\n",
    "    \"name\": bibs_team_name,\n",
    "    \"players\": team_b,\n",
    "    \"captain\": team_b[0]  # Assuming the first player is the captain\n",
    "}"
   ]
  },
  {
   "cell_type": "code",
   "execution_count": 2,
   "metadata": {},
   "outputs": [
    {
     "name": "stdout",
     "output_type": "stream",
     "text": [
      "Moviepy - Building video July 22 2025 - Game 1 Highlights - 2025-07-29.mp4.\n",
      "MoviePy - Writing audio in July 22 2025 - Game 1 Highlights - 2025-07-29TEMP_MPY_wvf_snd.mp3\n"
     ]
    },
    {
     "name": "stderr",
     "output_type": "stream",
     "text": [
      "                                                                      \r"
     ]
    },
    {
     "name": "stdout",
     "output_type": "stream",
     "text": [
      "MoviePy - Done.\n",
      "Moviepy - Writing video July 22 2025 - Game 1 Highlights - 2025-07-29.mp4\n",
      "\n"
     ]
    },
    {
     "name": "stderr",
     "output_type": "stream",
     "text": [
      "                                                                "
     ]
    },
    {
     "name": "stdout",
     "output_type": "stream",
     "text": [
      "Moviepy - Done !\n",
      "Moviepy - video ready July 22 2025 - Game 1 Highlights - 2025-07-29.mp4\n"
     ]
    },
    {
     "name": "stderr",
     "output_type": "stream",
     "text": [
      "\r"
     ]
    }
   ],
   "source": [
    "from highlight_utils import create_highlight_clip\n",
    "\n",
    "highlights = [\n",
    "    {\"start\": 5.49, \"end\": 6.00, \"text\": \"Kick-off\"},\n",
    "    {\"time\":14.11, \"team\":\"b\", \"scored\":\"Chris\",\"assist\":\"Nick\"},\n",
    "    {\"time\":16.59, \"team\":\"b\", \"scored\":\"Stu\",\"assist\":\"Yaw\"},\n",
    "    {\"time\":19.25, \"team\":\"b\", \"scored\":\"Kevin\"},\n",
    "    {\"time\":19.59, \"team\":\"b\", \"scored\":\"Chris\",\"assist\":\"Kevin\"},\n",
    "    {\"time\":21.38, \"team\":\"b\", \"scored\":\"Theo\",\"assist\":\"Chris\"},\n",
    "    {\"time\":27.37, \"team\":\"n\", \"scored\":\"Joe W\",\"assist\":\"Henry\"},\n",
    "    {\"time\":29.22, \"team\":\"n\", \"scored\":\"David J\",\"assist\":\"Tom\"}, # +2\n",
    "    {\"time\":33.01, \"team\":\"n\", \"scored\":\"Azamat\",\"assist\":\"Joe W\"},\n",
    "    {\"time\":37.18, \"team\":\"n\", \"scored\":\"Yi\",\"assist\":\"David J\"},\n",
    "    {\"time\":41.45, \"text\": \"Full Time\", \"text_duration\": 5},\n",
    "]\n",
    "create_highlight_clip(\"..\\July 22 2025 - Game 1.mp4\",highlights,non_bibs_team, bibs_team)"
   ]
  },
  {
   "cell_type": "code",
   "execution_count": null,
   "metadata": {},
   "outputs": [
    {
     "data": {
      "text/plain": [
       "'2025-07-28 23'"
      ]
     },
     "execution_count": 5,
     "metadata": {},
     "output_type": "execute_result"
    }
   ],
   "source": [
    "import datetime as dt\n",
    "str(dt.datetime.now())[:10]"
   ]
  },
  {
   "cell_type": "code",
   "execution_count": 37,
   "metadata": {},
   "outputs": [
    {
     "data": {
      "text/plain": [
       "'July 22 2025 - Game 1 Highlights.mp4'"
      ]
     },
     "execution_count": 37,
     "metadata": {},
     "output_type": "execute_result"
    }
   ],
   "source": [
    "x=\"..\\July 22 2025 - Game 1.mp4\"\n",
    "x.replace(\"..\",\"\").replace(\"\\\\\",\"\").replace(\".mp4\",\" Highlights.mp4\")"
   ]
  },
  {
   "cell_type": "code",
   "execution_count": 28,
   "metadata": {},
   "outputs": [
    {
     "name": "stdout",
     "output_type": "stream",
     "text": [
      "Moviepy - Building video July 22 2025 - Game 1 Highlights.mp4.\n",
      "MoviePy - Writing audio in July 22 2025 - Game 1 HighlightsTEMP_MPY_wvf_snd.mp3\n"
     ]
    },
    {
     "name": "stderr",
     "output_type": "stream",
     "text": [
      "                                                                      \r"
     ]
    },
    {
     "name": "stdout",
     "output_type": "stream",
     "text": [
      "MoviePy - Done.\n",
      "Moviepy - Writing video July 22 2025 - Game 1 Highlights.mp4\n",
      "\n"
     ]
    },
    {
     "name": "stderr",
     "output_type": "stream",
     "text": [
      "                                                                \r"
     ]
    },
    {
     "name": "stdout",
     "output_type": "stream",
     "text": [
      "Moviepy - Done !\n",
      "Moviepy - video ready July 22 2025 - Game 1 Highlights.mp4\n"
     ]
    }
   ],
   "source": [
    "from moviepy.editor import VideoFileClip, TextClip, CompositeVideoClip, VideoClip\n",
    "\n",
    "# === Configure your match video ===\n",
    "video = VideoFileClip(\"..\\July 22 2025 - Game 1.mp4\")\n",
    "\n",
    "highlights = [\n",
    "    {\"start\": 1.51, \"end\": 2.05, \"text\": \"Kick-off\"},\n",
    "    {\"time\":3.55, \"text\": \"Hand ball by Gerald!\", \"text_duration\": 5},\n",
    "    {\"time\":7.07, \"team\":\"n\", \"scored\":\"Pavlos\",\"assist\":\"Tom\"},\n",
    "    {\"time\":8.20, \"team\":\"n\", \"scored\":\"Manzan\",\"assist\":\"Chris\"},\n",
    "    {\"time\":10.06, \"team\":\"n\", \"scored\":\"Tom\",\"assist\":\"Alex D\"},\n",
    "    {\"time\":13.11, \"team\":\"b\", \"scored\":\"Gerald\",\"assist\":\"Stu\"},\n",
    "    {\"time\":14.56, \"team\":\"n\", \"scored\":\"Pavlos\",\"assist\":\"Chris\"},\n",
    "    {\"time\":16.00, \"text\": \"Hand ball goal not counted\", \"text_duration\": 5},\n",
    "    {\"time\":18.47, \"team\":\"b\", \"scored\":\"Kevin\",\"assist\":\"Alex L\"},\n",
    "    {\"time\":20.59, \"team\":\"n\", \"scored\":\"Pavlos\"},\n",
    "    {\"time\":22.30, \"team\":\"b\", \"scored\":\"Gerald\",\"assist\":\"David J\"},\n",
    "    {\"time\":24.25, \"team\":\"b\", \"scored\":\"David J\",\"assist\":\"Gerald\"},\n",
    "    {\"time\":25.41, \"team\":\"b\", \"scored\":\"David J\",\"assist\":\"Gerald\"},\n",
    "    {\"time\":26.44, \"team\":\"b\", \"scored\":\"Gerald\",\"assist\":\"Alex L\"},\n",
    "    {\"time\":29.05, \"team\":\"b\", \"scored\":\"Gerald\",\"assist\":\"Yi\"},\n",
    "    {\"time\":32.45, \"team\":\"b\", \"scored\":\"Gerald\",\"assist\":\"Yi\"},\n",
    "    {\"time\":34.35, \"team\":\"b\", \"scored\":\"Stu\",\"assist\":\"Kevin\"},\n",
    "    {\"time\":34.53, \"team\":\"n\", \"scored\":\"Pavlos\",\"assist\":\"Manzan\"},\n",
    "    {\"time\":35.11, \"team\":\"b\", \"scored\":\"David J\",\"assist\":\"Kevin\"},\n",
    "    {\"time\":36.54, \"team\":\"b\", \"scored\":\"Stu\",\"assist\":\"David J\"},\n",
    "    {\"time\":39.46, \"text\": \"Full Time\", \"text_duration\": 5},\n",
    "]\n",
    "\n",
    "highlights = [\n",
    "    {\"start\": 5.49, \"end\": 6.00, \"text\": \"Kick-off\"},\n",
    "    {\"time\":14.11, \"team\":\"b\", \"scored\":\"Chris\",\"assist\":\"Nick\"},\n",
    "    {\"time\":16.59, \"team\":\"b\", \"scored\":\"Stu\",\"assist\":\"Yaw\"},\n",
    "    {\"time\":19.25, \"team\":\"b\", \"scored\":\"Kevin\"},\n",
    "    {\"time\":19.59, \"team\":\"b\", \"scored\":\"Chris\",\"assist\":\"Kevin\"},\n",
    "    {\"time\":21.38, \"team\":\"b\", \"scored\":\"Theo\",\"assist\":\"Chris\"},\n",
    "    {\"time\":27.37, \"team\":\"n\", \"scored\":\"Joe W\",\"assist\":\"Henry\"},\n",
    "    {\"time\":29.22, \"team\":\"n\", \"scored\":\"David J\",\"assist\":\"Tom\"}, # +2\n",
    "    {\"time\":33.01, \"team\":\"n\", \"scored\":\"Azamat\",\"assist\":\"Joe W\"},\n",
    "    {\"time\":37.18, \"team\":\"n\", \"scored\":\"Yi\",\"assist\":\"David J\"},\n",
    "    {\"time\":41.45, \"text\": \"Full Time\", \"text_duration\": 5},\n",
    "]\n",
    "\n",
    "# === Create clips with score overlay ===\n",
    "highlight_clips = []\n",
    "# Create the generator\n",
    "tracker = match_tracker()\n",
    "next(tracker) \n",
    "for i, h in enumerate(highlights):\n",
    "    start = mm_ss_to_seconds(h[\"start\"] if \"start\" in h else h[\"time\"]) - 10\n",
    "    end = mm_ss_to_seconds(h[\"end\"] if \"end\" in h else h[\"time\"]) + 5\n",
    "    clip = video.subclip(start, end)\n",
    "    \n",
    "    # Create score text overlay\n",
    "\n",
    "    if \"text\" not in h:\n",
    "        text = tracker.send((team_dict[h[\"team\"]], h[\"scored\"], h[\"assist\"] if \"assist\" in h else \"\", mm_ss_to_seconds(h[\"time\"]) // 60\n",
    "))\n",
    "        final_scoreboard = text\n",
    "        text_duration = h[\"text_duration\"] if \"text_duration\" in h else 5\n",
    "    else:\n",
    "        text = h[\"text\"]\n",
    "        text_duration = h[\"text_duration\"] if \"text_duration\" in h else clip.duration\n",
    "\n",
    "    \n",
    "    txt = TextClip(\n",
    "        text, fontsize=36, color='white', font=\"Arial-Bold\", bg_color='black'\n",
    "    ).set_position((\"center\", \"bottom\")).set_duration(text_duration).set_start(clip.duration - text_duration)\n",
    "\n",
    "    # Function to generate timer frame\n",
    "    def make_timer(t, start_time=start):\n",
    "        current_time = start_time + int(t)\n",
    "        minutes = current_time // 60\n",
    "        seconds = current_time % 60\n",
    "        txt_clip = TextClip(\n",
    "            f\"{minutes}:{seconds:02d}\",\n",
    "            fontsize=36, color='white', font=\"Arial-Bold\", bg_color='black'\n",
    "        ).set_position((\"left\", \"top\")).set_duration(clip.duration)\n",
    "        \n",
    "        return txt_clip.get_frame(t)  # Return actual frame as NumPy array\n",
    "\n",
    "    # Create dynamic timer clip\n",
    "    timer_txt = VideoClip(make_timer, duration=clip.duration)\n",
    "\n",
    "    composite = CompositeVideoClip([clip, txt, timer_txt])\n",
    "    highlight_clips.append(composite)\n",
    "\n",
    "# === Step 1: Count goals and assists ===\n",
    "from collections import defaultdict\n",
    "\n",
    "goals = defaultdict(int)\n",
    "assists = defaultdict(int)\n",
    "\n",
    "for h in highlights:\n",
    "    if \"scored\" in h:\n",
    "        goals[h[\"scored\"]] += 1\n",
    "    if \"assist\" in h:\n",
    "        assists[h[\"assist\"]] += 1\n",
    "\n",
    "# === Step 2: Build summary text ===\n",
    "\n",
    "summary_lines = [\"  Player Summary\", \"\"]\n",
    "\n",
    "# Combine goals and assists into a sortable list\n",
    "player_stats = []\n",
    "for player in set(goals.keys()) | set(assists.keys()):\n",
    "    g = goals[player]\n",
    "    a = assists[player]\n",
    "    player_stats.append((g, a, player))  # Sort by goals, then assists\n",
    "\n",
    "# Sort descending by goals, then assists\n",
    "player_stats.sort(reverse=True)\n",
    "\n",
    "# Format summary lines\n",
    "for g, a, player in player_stats:\n",
    "    summary_lines.append(f\"{player}: {g} goal{'s' if g != 1 else ''}, {a} assist{'s' if a != 1 else ''}\")\n",
    "\n",
    "summary_text = \"\\n\".join(summary_lines)\n",
    "\n",
    "# === Step 3: Create summary clip ===\n",
    "summary_clip = TextClip(\n",
    "    summary_text, fontsize=36, color='white', font=\"Arial\", bg_color='black', size=video.size\n",
    ").set_duration(15).set_position(\"center\")\n",
    "\n",
    "scoreboard_clip = TextClip(\n",
    "    final_scoreboard.replace(\">>>\", \"\"), fontsize=36, color='white', font=\"Arial\", bg_color='black', size=video.size\n",
    ").set_duration(10).set_position(\"center\")\n",
    "\n",
    "    \n",
    "# === Concatenate all highlight clips ===\n",
    "from moviepy.editor import concatenate_videoclips\n",
    "\n",
    "final_highlights = concatenate_videoclips([team_intro] + highlight_clips + [scoreboard_clip, summary_clip])\n",
    "final_highlights.write_videofile(\"July 22 2025 - Game 1 Highlights.mp4\", codec=\"libx264\", fps=25)\n",
    " "
   ]
  },
  {
   "cell_type": "code",
   "execution_count": null,
   "metadata": {},
   "outputs": [
    {
     "name": "stdout",
     "output_type": "stream",
     "text": [
      "Moviepy - Building video match_with_live_scoreboard.mp4.\n",
      "MoviePy - Writing audio in match_with_live_scoreboardTEMP_MPY_wvf_snd.mp3\n"
     ]
    },
    {
     "name": "stderr",
     "output_type": "stream",
     "text": [
      "                                                                        \r"
     ]
    },
    {
     "name": "stdout",
     "output_type": "stream",
     "text": [
      "MoviePy - Done.\n",
      "Moviepy - Writing video match_with_live_scoreboard.mp4\n",
      "\n"
     ]
    },
    {
     "name": "stderr",
     "output_type": "stream",
     "text": [
      "                                                                   \r"
     ]
    },
    {
     "name": "stdout",
     "output_type": "stream",
     "text": [
      "Moviepy - Done !\n",
      "Moviepy - video ready match_with_live_scoreboard.mp4\n"
     ]
    }
   ],
   "source": [
    "from moviepy.editor import VideoFileClip, TextClip, CompositeVideoClip\n",
    "from collections import defaultdict\n",
    "\n",
    "highlights = [\n",
    "    {\"start\": 5.49, \"end\": 6.00, \"text\": \"Kick-off\"},\n",
    "    {\"time\":14.11, \"team\":\"b\", \"scored\":\"Chris\",\"assist\":\"Nick\"},\n",
    "    {\"time\":16.59, \"team\":\"b\", \"scored\":\"Stu\",\"assist\":\"Yaw\"},\n",
    "    {\"time\":19.25, \"team\":\"b\", \"scored\":\"Kevin\"},\n",
    "    {\"time\":19.59, \"team\":\"b\", \"scored\":\"Chris\",\"assist\":\"Kevin\"},\n",
    "    {\"time\":21.38, \"team\":\"b\", \"scored\":\"Theo\",\"assist\":\"Chris\"},\n",
    "    {\"time\":27.37, \"team\":\"n\", \"scored\":\"Joe W\",\"assist\":\"Henry\"},\n",
    "    {\"time\":29.22, \"team\":\"n\", \"scored\":\"David J\",\"assist\":\"Tom\"}, # +2\n",
    "    {\"time\":33.01, \"team\":\"n\", \"scored\":\"Azamat\",\"assist\":\"Joe W\"},\n",
    "    {\"time\":37.18, \"team\":\"n\", \"scored\":\"Yi\",\"assist\":\"David J\"},\n",
    "    {\"time\":41.45, \"text\": \"Full Time\", \"text_duration\": 5},\n",
    "]\n",
    "\n",
    "# Load full match\n",
    "video = VideoFileClip(\"..\\July 22 2025 - Game 1.mp4\")\n",
    "\n",
    "# Score trackers\n",
    "score = {non_bibs_team_name: 0, bibs_team_name: 0}\n",
    "goals_by_player = defaultdict(list)\n",
    "assists_by_player = defaultdict(list)\n",
    "\n",
    "overlays = []\n",
    "\n",
    "for h in highlights:\n",
    "    if \"scored\" in h:\n",
    "        team = team_dict[h[\"team\"]]\n",
    "        scorer = h[\"scored\"]\n",
    "        assist = h.get(\"assist\", \"\")\n",
    "        time = h[\"time\"]\n",
    "\n",
    "        # Update stats\n",
    "        score[team] += 1\n",
    "        minute = int(time)\n",
    "        goals_by_player[scorer].append(f\"{minute}' ({score[non_bibs_team_name]}–{score[bibs_team_name]})\")\n",
    "        if assist:\n",
    "            assists_by_player[scorer].append(assist)\n",
    "\n",
    "        # Build text overlay\n",
    "        goals_text = \", \".join(goals_by_player[scorer])\n",
    "        assist_text = \"\".join(f\"({a})\" for a in assists_by_player[scorer])\n",
    "        line = f\"{scorer}: {goals_text} {assist_text}\".strip()\n",
    "        header = f\"{non_bibs_team_name}: {score[non_bibs_team_name]}   {bibs_team_name}: {score[bibs_team_name]}\"\n",
    "        overlay_text = f\"{header}\\n{line}\"\n",
    "\n",
    "        txt_clip = TextClip(\n",
    "            overlay_text,\n",
    "            fontsize=48,\n",
    "            color='white',\n",
    "            font='Arial',\n",
    "            bg_color='black',\n",
    "            size=video.size,\n",
    "            method='caption'\n",
    "        ).set_start(time).set_duration(5).set_position(\"center\")\n",
    "\n",
    "        overlays.append(txt_clip)\n",
    "\n",
    "# Combine video and overlays\n",
    "final_video = CompositeVideoClip([video] + overlays)\n",
    "final_video.write_videofile(\"match_with_live_scoreboard.mp4\", codec=\"libx264\", fps=25)"
   ]
  },
  {
   "cell_type": "code",
   "execution_count": null,
   "metadata": {},
   "outputs": [],
   "source": []
  }
 ],
 "metadata": {
  "kernelspec": {
   "display_name": ".venv",
   "language": "python",
   "name": "python3"
  },
  "language_info": {
   "codemirror_mode": {
    "name": "ipython",
    "version": 3
   },
   "file_extension": ".py",
   "mimetype": "text/x-python",
   "name": "python",
   "nbconvert_exporter": "python",
   "pygments_lexer": "ipython3",
   "version": "3.11.9"
  }
 },
 "nbformat": 4,
 "nbformat_minor": 2
}
