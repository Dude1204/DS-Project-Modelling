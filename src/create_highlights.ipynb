{
 "cells": [
  {
   "cell_type": "code",
   "execution_count": 1,
   "metadata": {},
   "outputs": [],
   "source": [
    "# Set team names\n",
    "non_bibs_team_name = \"Yi Shall Not Pass\" # Non-bibs FC\n",
    "bibs_team_name = \"Team Yi\" # Bibs FC\n",
    "team_n = [\"George\", \"Chris\", \"David J\", \"Sam\", \"Michael\", \"Nik\"]\n",
    "team_b = [\"Yi\", \"Yaw\", \"Gerald\", \"Henry\", \"Stu\", \"Kevin\"]\n",
    "\n",
    "\n",
    "non_bibs_team = {\n",
    "    \"name\": non_bibs_team_name,\n",
    "    \"players\": team_n,\n",
    "    \"captain\": team_n[0]  # Assuming the first player is the captain\n",
    "}\n",
    "\n",
    "bibs_team = {\n",
    "    \"name\": bibs_team_name,\n",
    "    \"players\": team_b,\n",
    "    \"captain\": team_b[0]  # Assuming the first player is the captain\n",
    "}"
   ]
  },
  {
   "cell_type": "code",
   "execution_count": 2,
   "metadata": {},
   "outputs": [
    {
     "name": "stdout",
     "output_type": "stream",
     "text": [
      "Moviepy - Building video 5th August 2025 - Game 1 Highlights - 2025-08-08.mp4.\n",
      "MoviePy - Writing audio in 5th August 2025 - Game 1 Highlights - 2025-08-08TEMP_MPY_wvf_snd.mp3\n"
     ]
    },
    {
     "name": "stderr",
     "output_type": "stream",
     "text": [
      "                                                                        \r"
     ]
    },
    {
     "name": "stdout",
     "output_type": "stream",
     "text": [
      "MoviePy - Done.\n",
      "Moviepy - Writing video 5th August 2025 - Game 1 Highlights - 2025-08-08.mp4\n",
      "\n"
     ]
    },
    {
     "name": "stderr",
     "output_type": "stream",
     "text": [
      "                                                                  \r"
     ]
    },
    {
     "name": "stdout",
     "output_type": "stream",
     "text": [
      "Moviepy - Done !\n",
      "Moviepy - video ready 5th August 2025 - Game 1 Highlights - 2025-08-08.mp4\n"
     ]
    }
   ],
   "source": [
    "from highlight_utils import create_highlight_clip,merge_highlight_dicts\n",
    "\n",
    "highlights1 = [\n",
    "    {\"start\": 2.22, \"end\": 2.32, \"text\": \"Kick-off\"},\n",
    "    {\"time\":3.02, \"text\": \"Nearly\"},\n",
    "    {\"time\": 3.25, \"text\": \"Save\"},\n",
    "    {\"time\": 3.41, \"text\": \"Save\"},\n",
    "    {\"time\":5.31, \"text\": \"Nearly\"},\n",
    "    {\"time\": 7.44, \"text\": \"Nearly\"},\n",
    "    #{\"time\": 8.44, \"text\": \"Save\"},\n",
    "    {\"time\":9.19, \"team\":\"b\", \"scored\":\"Henry\",\"assist\":\"Yi\"},\n",
    "    {\"time\": 10.16, \"text\": \"Save\"},\n",
    "    {\"time\": 10.39, \"text\": \"Save\"},\n",
    "    {\"time\": 11.55, \"text\": \"Save\"},\n",
    "    {\"time\":12.50, \"team\":\"n\", \"scored\":\"Michael\",\"assist\":\"George\"},\n",
    "    {\"time\":13.46, \"team\":\"n\", \"scored\":\"George\",\"assist\":\"Sam\"},\n",
    "    {\"time\": 14.18, \"end\":14.27,\"text\": \"Save\"},\n",
    "    {\"time\":15.25, \"text\": \"Nearly\"},\n",
    "    {\"time\": 15.43, \"text\": \"Save\"},\n",
    "    {\"time\":16.21, \"text\": \"Nearly\"},\n",
    "    {\"time\":16.53, \"text\": \"Gerald got done\"},\n",
    "    {\"time\":17.46, \"text\": \"Nearly\"},\n",
    "    {\"time\":19.15, \"text\": \"Nearly\"},\n",
    "    {\"time\":20.23, \"team\":\"b\", \"scored\":\"Gerald\",\"assist\":\"Yaw\"},\n",
    "    {\"time\":21.55, \"text\": \"Nearly\"},\n",
    "    {\"time\":23.12, \"team\":\"b\", \"scored\":\"Stu\",\"assist\":\"Henry\"},\n",
    "    {\"time\":24.05, \"text\": \"Good play\"},\n",
    "    {\"time\":24.23, \"end\":24.40, \"text\": \"Nearly\"},\n",
    "    {\"time\": 25.16, \"text\": \"Save\"},\n",
    "    {\"time\":25.48, \"text\": \"Nearly\"},\n",
    "    {\"time\": 27.10, \"text\": \"Save\"},\n",
    "    {\"time\":27.51, \"team\":\"n\", \"scored\":\"Kevin (OG)\"},\n",
    "    {\"time\":28.25, \"team\":\"n\", \"scored\":\"Michael\",\"assist\":\"David J\"},\n",
    "    {\"time\":29.09, \"end\":29.16, \"team\":\"n\", \"scored\":\"George\",\"assist\":\"Nik\"},\n",
    "    {\"time\":30.35, \"team\":\"n\", \"scored\":\"Michael\",\"assist\":\"Sam\"},\n",
    "    {\"time\": 31.33, \"text\": \"Save\"},\n",
    "    #{\"time\":31.55, \"text\": \"Nearly\"},\n",
    "    {\"time\":32.06, \"start\":31.50,\"team\":\"b\", \"scored\":\"Stu\",\"assist\":\"Gerald\"},\n",
    "    {\"time\": 33.35, \"text\": \"Save\"},\n",
    "    {\"time\":36.07, \"team\":\"b\", \"scored\":\"Gerald\",\"assist\":\"Yi\"},\n",
    "    {\"time\":36.46, \"text\": \"Nearly\"},\n",
    "    {\"time\":36.56, \"start\":36.52,\"text\": \"Time wasting tactics\"},\n",
    "    {\"time\":37.55, \"team\":\"b\", \"scored\":\"Gerald\"},\n",
    "    {\"time\":38.13, \"team\":\"b\", \"scored\":\"Kevin\"},\n",
    "    {\"time\":39.50, \"team\":\"b\", \"scored\":\"Yaw\"},\n",
    "    {\"time\":41.02, \"text\": \"Nearly\"},\n",
    "    {\"time\":41.24, \"text\": \"Full Time\"},\n",
    "]\n",
    "#   {\"time\":41.45, \"text\": \"Full Time\", \"text_duration\": 5},\n",
    "\n",
    "create_highlight_clip(\"5th August 2025 - Game 1.mp4\",highlights1,non_bibs_team, bibs_team)\n"
   ]
  },
  {
   "cell_type": "code",
   "execution_count": 1,
   "metadata": {},
   "outputs": [],
   "source": [
    "# Set team names\n",
    "non_bibs_team_name = \"Non-bibs FC\" # Non-bibs FC\n",
    "bibs_team_name = \"Bibs FC\" # Bibs FC\n",
    "team_n = [\"George\", \"Gerald\", \"David J\", \"Chris\", \"Henry\", \"Jojo\", \"Robin\"]\n",
    "team_b = [\"Yi\", \"Yaw\", \"Michael\", \"Sam\", \"Kevin\", \"Stu\", \"Nik\"]\n",
    "\n",
    "\n",
    "non_bibs_team = {\n",
    "    \"name\": non_bibs_team_name,\n",
    "    \"players\": team_n,\n",
    "    \"captain\": \"team_n[0]\"  # Assuming the first player is the captain\n",
    "}\n",
    "\n",
    "bibs_team = {\n",
    "    \"name\": bibs_team_name,\n",
    "    \"players\": team_b,\n",
    "    \"captain\": \"team_b[0]\"  # Assuming the first player is the captain\n",
    "}"
   ]
  },
  {
   "cell_type": "code",
   "execution_count": null,
   "metadata": {},
   "outputs": [
    {
     "name": "stdout",
     "output_type": "stream",
     "text": [
      "Moviepy - Building video 5th August 2025 - Game 2 Highlights - 2025-08-09.mp4.\n",
      "MoviePy - Writing audio in 5th August 2025 - Game 2 Highlights - 2025-08-09TEMP_MPY_wvf_snd.mp3\n"
     ]
    },
    {
     "name": "stderr",
     "output_type": "stream",
     "text": [
      "                                                                      \r"
     ]
    },
    {
     "name": "stdout",
     "output_type": "stream",
     "text": [
      "MoviePy - Done.\n",
      "Moviepy - Writing video 5th August 2025 - Game 2 Highlights - 2025-08-09.mp4\n",
      "\n"
     ]
    },
    {
     "name": "stderr",
     "output_type": "stream",
     "text": [
      "                                                                \r"
     ]
    },
    {
     "name": "stdout",
     "output_type": "stream",
     "text": [
      "Moviepy - Done !\n",
      "Moviepy - video ready 5th August 2025 - Game 2 Highlights - 2025-08-09.mp4\n"
     ]
    }
   ],
   "source": [
    "from highlight_utils import create_highlight_clip\n",
    "\n",
    "highlights2 = [\n",
    "    {\"time\": 4.40,\"text\": \"Kick-off\"},\n",
    "    {\"time\":6.04, \"team\":\"n\", \"scored\":\"Chris\",\"assist\":\"George\"},\n",
    "    {\"time\":7.14, \"text\": \"Nearly\"},\n",
    "    {\"time\": 10.18, \"text\": \"Save\"},\n",
    "    {\"time\":12.02, \"team\":\"b\", \"scored\":\"Kevin\",\"assist\":\"Stu\"},\n",
    "    {\"time\":12.52, \"end\":13.01,\"text\": \"Nearly\"},\n",
    "    {\"time\":14.05, \"text\": \"Nearly\"},\n",
    "    {\"time\":14.42, \"team\":\"n\", \"scored\":\"Gerald\"},\n",
    "    {\"time\":21.44, \"team\":\"n\", \"scored\":\"Gerald\",\"assist\":\"Jojo\"},\n",
    "    {\"time\":21.53, \"start\":21.48,\"team\":\"b\", \"scored\":\"Michael\",\"assist\":\"Yaw\"},\n",
    "    {\"time\":24.00, \"text\": \"Good play\"},\n",
    "    {\"time\":25.28, \"team\":\"n\", \"scored\":\"Chris\",\"assist\":\"Robin\"},#\n",
    "    {\"time\":26.00, \"team\":\"n\", \"scored\":\"George\",\"assist\":\"Gerald\"},#\n",
    "    {\"time\":26.47, \"text\": \"Nearly\"},\n",
    "    {\"time\":27.14, \"text\": \"Save\"},\n",
    "    {\"time\":28.00, \"start\":27.45, \"team\":\"b\", \"scored\":\"Michael\",\"assist\":\"Nik\"},\n",
    "    {\"time\":29.27, \"text\": \"Nearly\"},\n",
    "    {\"time\":30.57, \"start\":30.45, \"team\":\"b\", \"scored\":\"Kevin\"},\n",
    "    {\"time\":31.51, \"team\":\"b\", \"scored\":\"Stu\",\"assist\":\"Kevin\"},\n",
    "    {\"time\":32.35, \"team\":\"b\", \"scored\":\"Michael\",\"assist\":\"Nik\"},\n",
    "    {\"time\":34.13, \"text\": \"Pen???\"},####\n",
    "    {\"start\":34.12, \"end\":34.15, \"text\": \"VAR Check Inconclusive \\n\\n Decision: No Penalty\",\"slow\":(0.25,0.5)},\n",
    "    {\"time\":34.23, \"text\": \"Kevin Injured\"},\n",
    "    {\"time\":37.42, \"end\":37.49, \"text\": \"Foul or Dive??\"},\n",
    "    {\"start\":37.38, \"end\":37.42,\"text\": \"Check Completed \\n\\n Decision: Foul Given - Player Reaction Under Scrutiny\",\"slow\":(0.3,0.5)}, #38-42\n",
    "    {\"time\":39.00, \"end\":39.04,\"text\": \"Save\", \"text_duration\": 4},\n",
    "    {\"time\":39.13, \"text\": \"Foul or Dive??\"},#11-15\n",
    "    {\"start\":39.11, \"end\":39.15,\"text\": \"Check Completed \\n\\n Decision: Foul\",\"slow\":(0.2,0.5)},\n",
    "    {\"time\":40.32, \"text\": \"Save\"},\n",
    "    {\"time\":41.01, \"end\": 41.09, \"text\": \"Foul??\"},#59-02\n",
    "    {\"start\":40.59, \"end\":41.02,\"text\": \"Check Complete \\n\\n Decision: Foul\",\"slow\":(0.15,0.5)},\n",
    "    {\"time\":41.28, \"end\":41.37, \"team\":\"b\", \"scored\":\"Yi\",\"assist\":\"Stu\"},\n",
    "]\n",
    "\n",
    "\n",
    "\n",
    "create_highlight_clip(\"5th August 2025 - Game 2.mp4\",test_highlights2,non_bibs_team, bibs_team,game=2)\n",
    "\n"
   ]
  },
  {
   "cell_type": "code",
   "execution_count": 4,
   "metadata": {},
   "outputs": [
    {
     "name": "stdout",
     "output_type": "stream",
     "text": [
      "Moviepy - Building video save_to.mp4.\n",
      "MoviePy - Writing audio in save_toTEMP_MPY_wvf_snd.mp3\n"
     ]
    },
    {
     "name": "stderr",
     "output_type": "stream",
     "text": [
      "                                                                      \r"
     ]
    },
    {
     "name": "stdout",
     "output_type": "stream",
     "text": [
      "MoviePy - Done.\n",
      "Moviepy - Writing video save_to.mp4\n",
      "\n"
     ]
    },
    {
     "name": "stderr",
     "output_type": "stream",
     "text": [
      "                                                                 "
     ]
    },
    {
     "name": "stdout",
     "output_type": "stream",
     "text": [
      "Moviepy - Done !\n",
      "Moviepy - video ready save_to.mp4\n"
     ]
    },
    {
     "name": "stderr",
     "output_type": "stream",
     "text": [
      "\r"
     ]
    }
   ],
   "source": [
    "from moviepy.editor import VideoFileClip, vfx,concatenate_videoclips\n",
    "\n",
    "def zoom_and_slowmo(clip, start_time, duration, zoom_center, zoom_factor=2.0, slowmo_factor=0.5):\n",
    "    \"\"\"\n",
    "    Applies a zoom-in and slow-motion effect to a segment of the video.\n",
    "\n",
    "    Parameters:\n",
    "    - clip: MoviePy VideoFileClip object\n",
    "    - start_time: float, time in seconds where the effect starts\n",
    "    - duration: float, duration of the effect in seconds\n",
    "    - zoom_center: tuple (x, y), normalized coordinates (0 to 1) for zoom focal point\n",
    "    - zoom_factor: float, how much to zoom in (default 2.0)\n",
    "    - slowmo_factor: float, playback speed (0.5 = half speed)\n",
    "\n",
    "    Returns:\n",
    "    - Composite clip with zoom and slowmo effect applied to the segment\n",
    "    \"\"\"\n",
    "\n",
    "    # Extract the segment to apply the effect\n",
    "    clip = VideoFileClip(clip)\n",
    "    segment = clip.subclip(start_time, start_time + duration)\n",
    "\n",
    "    # Get original clip size\n",
    "    w, h = clip.size\n",
    "    cx, cy = zoom_center\n",
    "    center_x, center_y = int(cx * w), int(cy * h)\n",
    "\n",
    "    # Apply zoom by cropping and resizing\n",
    "    zoomed = (\n",
    "        segment\n",
    "        .crop(\n",
    "            x_center=center_x,\n",
    "            y_center=center_y,\n",
    "            width=w / zoom_factor,\n",
    "            height=h / zoom_factor\n",
    "        )\n",
    "        .resize((w, h))  # Resize back to original size\n",
    "        .fx(vfx.speedx, slowmo_factor)  # Apply slow motion\n",
    "    )\n",
    "\n",
    "    # Replace the original segment with the zoomed slowmo\n",
    "    before = clip.subclip(0, start_time)\n",
    "    after = clip.subclip(start_time + duration, clip.duration)\n",
    "    final = concatenate_videoclips([before, zoomed, after])\n",
    "\n",
    "    return final.write_videofile(\"save_to.mp4\", codec=\"libx264\", fps=25)\n",
    "\n",
    "zoom_and_slowmo(\"5th August 2025 - Game 2 Highlights - 2025-08-08.mp4\", 5, 5, (0.25,0.5), zoom_factor=2.0, slowmo_factor=0.5)"
   ]
  },
  {
   "cell_type": "code",
   "execution_count": 6,
   "metadata": {},
   "outputs": [
    {
     "name": "stdout",
     "output_type": "stream",
     "text": [
      "Moviepy - Building video Combined Highlights - 2025-07-31.mp4.\n",
      "MoviePy - Writing audio in Combined Highlights - 2025-07-31TEMP_MPY_wvf_snd.mp3\n"
     ]
    },
    {
     "name": "stderr",
     "output_type": "stream",
     "text": [
      "                                                                        \r"
     ]
    },
    {
     "name": "stdout",
     "output_type": "stream",
     "text": [
      "MoviePy - Done.\n",
      "Moviepy - Writing video Combined Highlights - 2025-07-31.mp4\n",
      "\n"
     ]
    },
    {
     "name": "stderr",
     "output_type": "stream",
     "text": [
      "                                                                   \r"
     ]
    },
    {
     "name": "stdout",
     "output_type": "stream",
     "text": [
      "Moviepy - Done !\n",
      "Moviepy - video ready Combined Highlights - 2025-07-31.mp4\n"
     ]
    }
   ],
   "source": [
    "from highlight_utils import combine_highlights\n",
    "combine_highlights(\n",
    "    \"July 29th 2025 - Game 1 Highlights - 2025-07-30.mp4\",\n",
    "    \"July 29th 2025 - Game 2 Highlights - 2025-07-31.mp4\",\n",
    "    highlights1,\n",
    "    highlights2\n",
    "    )"
   ]
  },
  {
   "cell_type": "code",
   "execution_count": null,
   "metadata": {},
   "outputs": [],
   "source": [
    "from moviepy.editor import VideoFileClip, concatenate_videoclips, vfx\n",
    "\n",
    "def create_replay_pause_zoom(video_path, start_time, end_time,\n",
    "                              pause_duration=2, zoom=1.5, output_path=\"final_replay.mp4\"):\n",
    "    # Load original video\n",
    "    video = VideoFileClip(video_path)\n",
    "\n",
    "    # Extract replay segment\n",
    "    replay_clip = video.subclip(start_time, end_time)\n",
    "\n",
    "    # Freeze last frame\n",
    "    pause_frame = replay_clip.to_ImageClip().set_duration(pause_duration)\n",
    "\n",
    "    # Zoom-in effect (animated or static — toggle as needed)\n",
    "    zoomed = pause_frame.fx(vfx.zoom_in, zoom=zoom, duration=pause_duration)\n",
    "    # Alternatively use static zoom: pause_frame.resize(zoom)\n",
    "\n",
    "    # Stitch replay, pause, zoomed frame\n",
    "    final_clip = concatenate_videoclips([replay_clip, pause_frame, zoomed])\n",
    "\n",
    "    # Export the result\n",
    "    final_clip.write_videofile(output_path, fps=video.fps)\n",
    "\n",
    "    return final_clip\n",
    "\n",
    "create_replay_pause_zoom(\"July 29th 2025 - Game 2 Highlights - 2025-07-30.mp4\", 3.04, 3.29, output_path=\"replay_zoomed.mp4\")"
   ]
  },
  {
   "cell_type": "code",
   "execution_count": null,
   "metadata": {},
   "outputs": [
    {
     "name": "stdout",
     "output_type": "stream",
     "text": [
      "Moviepy - Building video July 22 2025 - Game 1 Highlights.mp4.\n",
      "MoviePy - Writing audio in July 22 2025 - Game 1 HighlightsTEMP_MPY_wvf_snd.mp3\n"
     ]
    },
    {
     "name": "stderr",
     "output_type": "stream",
     "text": [
      "                                                                      \r"
     ]
    },
    {
     "name": "stdout",
     "output_type": "stream",
     "text": [
      "MoviePy - Done.\n",
      "Moviepy - Writing video July 22 2025 - Game 1 Highlights.mp4\n",
      "\n"
     ]
    },
    {
     "name": "stderr",
     "output_type": "stream",
     "text": [
      "                                                                \r"
     ]
    },
    {
     "name": "stdout",
     "output_type": "stream",
     "text": [
      "Moviepy - Done !\n",
      "Moviepy - video ready July 22 2025 - Game 1 Highlights.mp4\n"
     ]
    }
   ],
   "source": [
    "from moviepy.editor import VideoFileClip, TextClip, CompositeVideoClip, VideoClip\n",
    "\n",
    "# === Configure your match video ===\n",
    "video = VideoFileClip(\"..\\July 22 2025 - Game 1.mp4\")\n",
    "\n",
    "highlights = [\n",
    "    {\"start\": 1.51, \"end\": 2.05, \"text\": \"Kick-off\"},\n",
    "    {\"time\":3.55, \"text\": \"Hand ball by Gerald!\", \"text_duration\": 5},\n",
    "    {\"time\":7.07, \"team\":\"n\", \"scored\":\"Pavlos\",\"assist\":\"Tom\"},\n",
    "    {\"time\":8.20, \"team\":\"n\", \"scored\":\"Manzan\",\"assist\":\"Chris\"},\n",
    "    {\"time\":10.06, \"team\":\"n\", \"scored\":\"Tom\",\"assist\":\"Alex D\"},\n",
    "    {\"time\":13.11, \"team\":\"b\", \"scored\":\"Gerald\",\"assist\":\"Stu\"},\n",
    "    {\"time\":14.56, \"team\":\"n\", \"scored\":\"Pavlos\",\"assist\":\"Chris\"},\n",
    "    {\"time\":16.00, \"text\": \"Hand ball goal not counted\", \"text_duration\": 5},\n",
    "    {\"time\":18.47, \"team\":\"b\", \"scored\":\"Kevin\",\"assist\":\"Alex L\"},\n",
    "    {\"time\":20.59, \"team\":\"n\", \"scored\":\"Pavlos\"},\n",
    "    {\"time\":22.30, \"team\":\"b\", \"scored\":\"Gerald\",\"assist\":\"David J\"},\n",
    "    {\"time\":24.25, \"team\":\"b\", \"scored\":\"David J\",\"assist\":\"Gerald\"},\n",
    "    {\"time\":25.41, \"team\":\"b\", \"scored\":\"David J\",\"assist\":\"Gerald\"},\n",
    "    {\"time\":26.44, \"team\":\"b\", \"scored\":\"Gerald\",\"assist\":\"Alex L\"},\n",
    "    {\"time\":29.05, \"team\":\"b\", \"scored\":\"Gerald\",\"assist\":\"Yi\"},\n",
    "    {\"time\":32.45, \"team\":\"b\", \"scored\":\"Gerald\",\"assist\":\"Yi\"},\n",
    "    {\"time\":34.35, \"team\":\"b\", \"scored\":\"Stu\",\"assist\":\"Kevin\"},\n",
    "    {\"time\":34.53, \"team\":\"n\", \"scored\":\"Pavlos\",\"assist\":\"Manzan\"},\n",
    "    {\"time\":35.11, \"team\":\"b\", \"scored\":\"David J\",\"assist\":\"Kevin\"},\n",
    "    {\"time\":36.54, \"team\":\"b\", \"scored\":\"Stu\",\"assist\":\"David J\"},\n",
    "    {\"time\":39.46, \"text\": \"Full Time\", \"text_duration\": 5},\n",
    "]\n",
    "\n",
    "highlights = [\n",
    "    {\"start\": 5.49, \"end\": 6.00, \"text\": \"Kick-off\"},\n",
    "    {\"time\":14.11, \"team\":\"b\", \"scored\":\"Chris\",\"assist\":\"Nick\"},\n",
    "    {\"time\":16.59, \"team\":\"b\", \"scored\":\"Stu\",\"assist\":\"Yaw\"},\n",
    "    {\"time\":19.25, \"team\":\"b\", \"scored\":\"Kevin\"},\n",
    "    {\"time\":19.59, \"team\":\"b\", \"scored\":\"Chris\",\"assist\":\"Kevin\"},\n",
    "    {\"time\":21.38, \"team\":\"b\", \"scored\":\"Theo\",\"assist\":\"Chris\"},\n",
    "    {\"time\":27.37, \"team\":\"n\", \"scored\":\"Joe W\",\"assist\":\"Henry\"},\n",
    "    {\"time\":29.22, \"team\":\"n\", \"scored\":\"David J\",\"assist\":\"Tom\"}, # +2\n",
    "    {\"time\":33.01, \"team\":\"n\", \"scored\":\"Azamat\",\"assist\":\"Joe W\"},\n",
    "    {\"time\":37.18, \"team\":\"n\", \"scored\":\"Yi\",\"assist\":\"David J\"},\n",
    "    {\"time\":41.45, \"text\": \"Full Time\", \"text_duration\": 5},\n",
    "]\n",
    "\n",
    "# === Create clips with score overlay ===\n",
    "highlight_clips = []\n",
    "# Create the generator\n",
    "tracker = match_tracker()\n",
    "next(tracker) \n",
    "for i, h in enumerate(highlights):\n",
    "    start = mm_ss_to_seconds(h[\"start\"] if \"start\" in h else h[\"time\"]) - 10\n",
    "    end = mm_ss_to_seconds(h[\"end\"] if \"end\" in h else h[\"time\"]) + 5\n",
    "    clip = video.subclip(start, end)\n",
    "    \n",
    "    # Create score text overlay\n",
    "\n",
    "    if \"text\" not in h:\n",
    "        text = tracker.send((team_dict[h[\"team\"]], h[\"scored\"], h[\"assist\"] if \"assist\" in h else \"\", mm_ss_to_seconds(h[\"time\"]) // 60\n",
    "))\n",
    "        final_scoreboard = text\n",
    "        text_duration = h[\"text_duration\"] if \"text_duration\" in h else 5\n",
    "    else:\n",
    "        text = h[\"text\"]\n",
    "        text_duration = h[\"text_duration\"] if \"text_duration\" in h else clip.duration\n",
    "\n",
    "    \n",
    "    txt = TextClip(\n",
    "        text, fontsize=36, color='white', font=\"Arial-Bold\", bg_color='black'\n",
    "    ).set_position((\"center\", \"bottom\")).set_duration(text_duration).set_start(clip.duration - text_duration)\n",
    "\n",
    "    # Function to generate timer frame\n",
    "    def make_timer(t, start_time=start):\n",
    "        current_time = start_time + int(t)\n",
    "        minutes = current_time // 60\n",
    "        seconds = current_time % 60\n",
    "        txt_clip = TextClip(\n",
    "            f\"{minutes}:{seconds:02d}\",\n",
    "            fontsize=36, color='white', font=\"Arial-Bold\", bg_color='black'\n",
    "        ).set_position((\"left\", \"top\")).set_duration(clip.duration)\n",
    "        \n",
    "        return txt_clip.get_frame(t)  # Return actual frame as NumPy array\n",
    "\n",
    "    # Create dynamic timer clip\n",
    "    timer_txt = VideoClip(make_timer, duration=clip.duration)\n",
    "\n",
    "    composite = CompositeVideoClip([clip, txt, timer_txt])\n",
    "    highlight_clips.append(composite)\n",
    "\n",
    "# === Step 1: Count goals and assists ===\n",
    "from collections import defaultdict\n",
    "\n",
    "goals = defaultdict(int)\n",
    "assists = defaultdict(int)\n",
    "\n",
    "for h in highlights:\n",
    "    if \"scored\" in h:\n",
    "        goals[h[\"scored\"]] += 1\n",
    "    if \"assist\" in h:\n",
    "        assists[h[\"assist\"]] += 1\n",
    "\n",
    "# === Step 2: Build summary text ===\n",
    "\n",
    "summary_lines = [\"  Player Summary\", \"\"]\n",
    "\n",
    "# Combine goals and assists into a sortable list\n",
    "player_stats = []\n",
    "for player in set(goals.keys()) | set(assists.keys()):\n",
    "    g = goals[player]\n",
    "    a = assists[player]\n",
    "    player_stats.append((g, a, player))  # Sort by goals, then assists\n",
    "\n",
    "# Sort descending by goals, then assists\n",
    "player_stats.sort(reverse=True)\n",
    "\n",
    "# Format summary lines\n",
    "for g, a, player in player_stats:\n",
    "    summary_lines.append(f\"{player}: {g} goal{'s' if g != 1 else ''}, {a} assist{'s' if a != 1 else ''}\")\n",
    "\n",
    "summary_text = \"\\n\".join(summary_lines)\n",
    "\n",
    "# === Step 3: Create summary clip ===\n",
    "summary_clip = TextClip(\n",
    "    summary_text, fontsize=36, color='white', font=\"Arial\", bg_color='black', size=video.size\n",
    ").set_duration(15).set_position(\"center\")\n",
    "\n",
    "scoreboard_clip = TextClip(\n",
    "    final_scoreboard.replace(\">>>\", \"\"), fontsize=36, color='white', font=\"Arial\", bg_color='black', size=video.size\n",
    ").set_duration(10).set_position(\"center\")\n",
    "\n",
    "    \n",
    "# === Concatenate all highlight clips ===\n",
    "from moviepy.editor import concatenate_videoclips\n",
    "\n",
    "final_highlights = concatenate_videoclips([team_intro] + highlight_clips + [scoreboard_clip, summary_clip])\n",
    "final_highlights.write_videofile(\"July 22 2025 - Game 1 Highlights.mp4\", codec=\"libx264\", fps=25)\n",
    " "
   ]
  },
  {
   "cell_type": "code",
   "execution_count": 3,
   "metadata": {},
   "outputs": [],
   "source": [
    "def cluster_overlapping_intervals(interval_dict):\n",
    "    from collections import defaultdict\n",
    "\n",
    "    def is_overlap(a, b):\n",
    "        return a[0] < b[1] and b[0] < a[1]\n",
    "\n",
    "    keys = list(interval_dict.keys())\n",
    "    n = len(keys)\n",
    "    graph = defaultdict(set)\n",
    "\n",
    "    # Build overlap graph\n",
    "    for i in range(n):\n",
    "        for j in range(i + 1, n):\n",
    "            if is_overlap(interval_dict[keys[i]], interval_dict[keys[j]]):\n",
    "                graph[keys[i]].add(keys[j])\n",
    "                graph[keys[j]].add(keys[i])\n",
    "\n",
    "    # DFS to extract clusters\n",
    "    visited = set()\n",
    "    clusters = []\n",
    "\n",
    "    def dfs(k, cluster):\n",
    "        if k not in visited:\n",
    "            visited.add(k)\n",
    "            cluster.append(k)\n",
    "            for neighbor in graph[k]:\n",
    "                dfs(neighbor, cluster)\n",
    "\n",
    "    for k in keys:\n",
    "        if k not in visited:\n",
    "            cluster = []\n",
    "            dfs(k, cluster)\n",
    "            clusters.append(tuple(sorted(cluster)))\n",
    "\n",
    "    return clusters"
   ]
  },
  {
   "cell_type": "code",
   "execution_count": 4,
   "metadata": {},
   "outputs": [
    {
     "data": {
      "text/plain": [
       "[(0,), (1,), (2,), (3,), (4,), (5,), (6,), (7, 8), (9,), (10, 11), (12,)]"
      ]
     },
     "execution_count": 4,
     "metadata": {},
     "output_type": "execute_result"
    }
   ],
   "source": [
    "cluster_overlapping_intervals(merge_highlight_dicts(highlights1))"
   ]
  },
  {
   "cell_type": "code",
   "execution_count": 3,
   "metadata": {},
   "outputs": [
    {
     "data": {
      "text/plain": [
       "[1280, 720]"
      ]
     },
     "execution_count": 3,
     "metadata": {},
     "output_type": "execute_result"
    }
   ],
   "source": [
    "from moviepy.editor import VideoFileClip, TextClip, CompositeVideoClip, VideoClip\n",
    "\n",
    "# === Configure your match video ===\n",
    "video.size# = VideoFileClip(\"..\\July 22 2025 - Game 1.mp4\")\n"
   ]
  },
  {
   "cell_type": "code",
   "execution_count": 28,
   "metadata": {},
   "outputs": [
    {
     "name": "stdout",
     "output_type": "stream",
     "text": [
      "Moviepy - Building video July 22 2025 - Game 1 Highlights.mp4.\n",
      "MoviePy - Writing audio in July 22 2025 - Game 1 HighlightsTEMP_MPY_wvf_snd.mp3\n"
     ]
    },
    {
     "name": "stderr",
     "output_type": "stream",
     "text": [
      "                                                                      \r"
     ]
    },
    {
     "name": "stdout",
     "output_type": "stream",
     "text": [
      "MoviePy - Done.\n",
      "Moviepy - Writing video July 22 2025 - Game 1 Highlights.mp4\n",
      "\n"
     ]
    },
    {
     "name": "stderr",
     "output_type": "stream",
     "text": [
      "                                                                \r"
     ]
    },
    {
     "name": "stdout",
     "output_type": "stream",
     "text": [
      "Moviepy - Done !\n",
      "Moviepy - video ready July 22 2025 - Game 1 Highlights.mp4\n"
     ]
    }
   ],
   "source": [
    "from moviepy.editor import VideoFileClip, TextClip, CompositeVideoClip, VideoClip\n",
    "\n",
    "# === Configure your match video ===\n",
    "video = VideoFileClip(\"..\\July 22 2025 - Game 1.mp4\")\n",
    "\n",
    "highlights = [\n",
    "    {\"start\": 1.51, \"end\": 2.05, \"text\": \"Kick-off\"},\n",
    "    {\"time\":3.55, \"text\": \"Hand ball by Gerald!\", \"text_duration\": 5},\n",
    "    {\"time\":7.07, \"team\":\"n\", \"scored\":\"Pavlos\",\"assist\":\"Tom\"},\n",
    "    {\"time\":8.20, \"team\":\"n\", \"scored\":\"Manzan\",\"assist\":\"Chris\"},\n",
    "    {\"time\":10.06, \"team\":\"n\", \"scored\":\"Tom\",\"assist\":\"Alex D\"},\n",
    "    {\"time\":13.11, \"team\":\"b\", \"scored\":\"Gerald\",\"assist\":\"Stu\"},\n",
    "    {\"time\":14.56, \"team\":\"n\", \"scored\":\"Pavlos\",\"assist\":\"Chris\"},\n",
    "    {\"time\":16.00, \"text\": \"Hand ball goal not counted\", \"text_duration\": 5},\n",
    "    {\"time\":18.47, \"team\":\"b\", \"scored\":\"Kevin\",\"assist\":\"Alex L\"},\n",
    "    {\"time\":20.59, \"team\":\"n\", \"scored\":\"Pavlos\"},\n",
    "    {\"time\":22.30, \"team\":\"b\", \"scored\":\"Gerald\",\"assist\":\"David J\"},\n",
    "    {\"time\":24.25, \"team\":\"b\", \"scored\":\"David J\",\"assist\":\"Gerald\"},\n",
    "    {\"time\":25.41, \"team\":\"b\", \"scored\":\"David J\",\"assist\":\"Gerald\"},\n",
    "    {\"time\":26.44, \"team\":\"b\", \"scored\":\"Gerald\",\"assist\":\"Alex L\"},\n",
    "    {\"time\":29.05, \"team\":\"b\", \"scored\":\"Gerald\",\"assist\":\"Yi\"},\n",
    "    {\"time\":32.45, \"team\":\"b\", \"scored\":\"Gerald\",\"assist\":\"Yi\"},\n",
    "    {\"time\":34.35, \"team\":\"b\", \"scored\":\"Stu\",\"assist\":\"Kevin\"},\n",
    "    {\"time\":34.53, \"team\":\"n\", \"scored\":\"Pavlos\",\"assist\":\"Manzan\"},\n",
    "    {\"time\":35.11, \"team\":\"b\", \"scored\":\"David J\",\"assist\":\"Kevin\"},\n",
    "    {\"time\":36.54, \"team\":\"b\", \"scored\":\"Stu\",\"assist\":\"David J\"},\n",
    "    {\"time\":39.46, \"text\": \"Full Time\", \"text_duration\": 5},\n",
    "]\n",
    "\n",
    "highlights = [\n",
    "    {\"start\": 5.49, \"end\": 6.00, \"text\": \"Kick-off\"},\n",
    "    {\"time\":14.11, \"team\":\"b\", \"scored\":\"Chris\",\"assist\":\"Nick\"},\n",
    "    {\"time\":16.59, \"team\":\"b\", \"scored\":\"Stu\",\"assist\":\"Yaw\"},\n",
    "    {\"time\":19.25, \"team\":\"b\", \"scored\":\"Kevin\"},\n",
    "    {\"time\":19.59, \"team\":\"b\", \"scored\":\"Chris\",\"assist\":\"Kevin\"},\n",
    "    {\"time\":21.38, \"team\":\"b\", \"scored\":\"Theo\",\"assist\":\"Chris\"},\n",
    "    {\"time\":27.37, \"team\":\"n\", \"scored\":\"Joe W\",\"assist\":\"Henry\"},\n",
    "    {\"time\":29.22, \"team\":\"n\", \"scored\":\"David J\",\"assist\":\"Tom\"}, # +2\n",
    "    {\"time\":33.01, \"team\":\"n\", \"scored\":\"Azamat\",\"assist\":\"Joe W\"},\n",
    "    {\"time\":37.18, \"team\":\"n\", \"scored\":\"Yi\",\"assist\":\"David J\"},\n",
    "    {\"time\":41.45, \"text\": \"Full Time\", \"text_duration\": 5},\n",
    "]\n",
    "\n",
    "# === Create clips with score overlay ===\n",
    "highlight_clips = []\n",
    "# Create the generator\n",
    "tracker = match_tracker()\n",
    "next(tracker) \n",
    "for i, h in enumerate(highlights):\n",
    "    start = mm_ss_to_seconds(h[\"start\"] if \"start\" in h else h[\"time\"]) - 10\n",
    "    end = mm_ss_to_seconds(h[\"end\"] if \"end\" in h else h[\"time\"]) + 5\n",
    "    clip = video.subclip(start, end)\n",
    "    \n",
    "    # Create score text overlay\n",
    "\n",
    "    if \"text\" not in h:\n",
    "        text = tracker.send((team_dict[h[\"team\"]], h[\"scored\"], h[\"assist\"] if \"assist\" in h else \"\", mm_ss_to_seconds(h[\"time\"]) // 60\n",
    "))\n",
    "        final_scoreboard = text\n",
    "        text_duration = h[\"text_duration\"] if \"text_duration\" in h else 5\n",
    "    else:\n",
    "        text = h[\"text\"]\n",
    "        text_duration = h[\"text_duration\"] if \"text_duration\" in h else clip.duration\n",
    "\n",
    "    \n",
    "    txt = TextClip(\n",
    "        text, fontsize=36, color='white', font=\"Arial-Bold\", bg_color='black'\n",
    "    ).set_position((\"center\", \"bottom\")).set_duration(text_duration).set_start(clip.duration - text_duration)\n",
    "\n",
    "    # Function to generate timer frame\n",
    "    def make_timer(t, start_time=start):\n",
    "        current_time = start_time + int(t)\n",
    "        minutes = current_time // 60\n",
    "        seconds = current_time % 60\n",
    "        txt_clip = TextClip(\n",
    "            f\"{minutes}:{seconds:02d}\",\n",
    "            fontsize=36, color='white', font=\"Arial-Bold\", bg_color='black'\n",
    "        ).set_position((\"left\", \"top\")).set_duration(clip.duration)\n",
    "        \n",
    "        return txt_clip.get_frame(t)  # Return actual frame as NumPy array\n",
    "\n",
    "    # Create dynamic timer clip\n",
    "    timer_txt = VideoClip(make_timer, duration=clip.duration)\n",
    "\n",
    "    composite = CompositeVideoClip([clip, txt, timer_txt])\n",
    "    highlight_clips.append(composite)\n",
    "\n",
    "# === Step 1: Count goals and assists ===\n",
    "from collections import defaultdict\n",
    "\n",
    "goals = defaultdict(int)\n",
    "assists = defaultdict(int)\n",
    "\n",
    "for h in highlights:\n",
    "    if \"scored\" in h:\n",
    "        goals[h[\"scored\"]] += 1\n",
    "    if \"assist\" in h:\n",
    "        assists[h[\"assist\"]] += 1\n",
    "\n",
    "# === Step 2: Build summary text ===\n",
    "\n",
    "summary_lines = [\"  Player Summary\", \"\"]\n",
    "\n",
    "# Combine goals and assists into a sortable list\n",
    "player_stats = []\n",
    "for player in set(goals.keys()) | set(assists.keys()):\n",
    "    g = goals[player]\n",
    "    a = assists[player]\n",
    "    player_stats.append((g, a, player))  # Sort by goals, then assists\n",
    "\n",
    "# Sort descending by goals, then assists\n",
    "player_stats.sort(reverse=True)\n",
    "\n",
    "# Format summary lines\n",
    "for g, a, player in player_stats:\n",
    "    summary_lines.append(f\"{player}: {g} goal{'s' if g != 1 else ''}, {a} assist{'s' if a != 1 else ''}\")\n",
    "\n",
    "summary_text = \"\\n\".join(summary_lines)\n",
    "\n",
    "# === Step 3: Create summary clip ===\n",
    "summary_clip = TextClip(\n",
    "    summary_text, fontsize=36, color='white', font=\"Arial\", bg_color='black', size=video.size\n",
    ").set_duration(15).set_position(\"center\")\n",
    "\n",
    "scoreboard_clip = TextClip(\n",
    "    final_scoreboard.replace(\">>>\", \"\"), fontsize=36, color='white', font=\"Arial\", bg_color='black', size=video.size\n",
    ").set_duration(10).set_position(\"center\")\n",
    "\n",
    "    \n",
    "# === Concatenate all highlight clips ===\n",
    "from moviepy.editor import concatenate_videoclips\n",
    "\n",
    "final_highlights = concatenate_videoclips([team_intro] + highlight_clips + [scoreboard_clip, summary_clip])\n",
    "final_highlights.write_videofile(\"July 22 2025 - Game 1 Highlights.mp4\", codec=\"libx264\", fps=25)\n",
    " "
   ]
  },
  {
   "cell_type": "code",
   "execution_count": null,
   "metadata": {},
   "outputs": [
    {
     "name": "stdout",
     "output_type": "stream",
     "text": [
      "Moviepy - Building video match_with_live_scoreboard.mp4.\n",
      "MoviePy - Writing audio in match_with_live_scoreboardTEMP_MPY_wvf_snd.mp3\n"
     ]
    },
    {
     "name": "stderr",
     "output_type": "stream",
     "text": [
      "                                                                        \r"
     ]
    },
    {
     "name": "stdout",
     "output_type": "stream",
     "text": [
      "MoviePy - Done.\n",
      "Moviepy - Writing video match_with_live_scoreboard.mp4\n",
      "\n"
     ]
    },
    {
     "name": "stderr",
     "output_type": "stream",
     "text": [
      "                                                                   \r"
     ]
    },
    {
     "name": "stdout",
     "output_type": "stream",
     "text": [
      "Moviepy - Done !\n",
      "Moviepy - video ready match_with_live_scoreboard.mp4\n"
     ]
    }
   ],
   "source": [
    "from moviepy.editor import VideoFileClip, TextClip, CompositeVideoClip\n",
    "from collections import defaultdict\n",
    "\n",
    "highlights = [\n",
    "    {\"start\": 5.49, \"end\": 6.00, \"text\": \"Kick-off\"},\n",
    "    {\"time\":14.11, \"team\":\"b\", \"scored\":\"Chris\",\"assist\":\"Nick\"},\n",
    "    {\"time\":16.59, \"team\":\"b\", \"scored\":\"Stu\",\"assist\":\"Yaw\"},\n",
    "    {\"time\":19.25, \"team\":\"b\", \"scored\":\"Kevin\"},\n",
    "    {\"time\":19.59, \"team\":\"b\", \"scored\":\"Chris\",\"assist\":\"Kevin\"},\n",
    "    {\"time\":21.38, \"team\":\"b\", \"scored\":\"Theo\",\"assist\":\"Chris\"},\n",
    "    {\"time\":27.37, \"team\":\"n\", \"scored\":\"Joe W\",\"assist\":\"Henry\"},\n",
    "    {\"time\":29.22, \"team\":\"n\", \"scored\":\"David J\",\"assist\":\"Tom\"}, # +2\n",
    "    {\"time\":33.01, \"team\":\"n\", \"scored\":\"Azamat\",\"assist\":\"Joe W\"},\n",
    "    {\"time\":37.18, \"team\":\"n\", \"scored\":\"Yi\",\"assist\":\"David J\"},\n",
    "    {\"time\":41.45, \"text\": \"Full Time\", \"text_duration\": 5},\n",
    "]\n",
    "\n",
    "# Load full match\n",
    "video = VideoFileClip(\"..\\July 22 2025 - Game 1.mp4\")\n",
    "\n",
    "# Score trackers\n",
    "score = {non_bibs_team_name: 0, bibs_team_name: 0}\n",
    "goals_by_player = defaultdict(list)\n",
    "assists_by_player = defaultdict(list)\n",
    "\n",
    "overlays = []\n",
    "\n",
    "for h in highlights:\n",
    "    if \"scored\" in h:\n",
    "        team = team_dict[h[\"team\"]]\n",
    "        scorer = h[\"scored\"]\n",
    "        assist = h.get(\"assist\", \"\")\n",
    "        time = h[\"time\"]\n",
    "\n",
    "        # Update stats\n",
    "        score[team] += 1\n",
    "        minute = int(time)\n",
    "        goals_by_player[scorer].append(f\"{minute}' ({score[non_bibs_team_name]}–{score[bibs_team_name]})\")\n",
    "        if assist:\n",
    "            assists_by_player[scorer].append(assist)\n",
    "\n",
    "        # Build text overlay\n",
    "        goals_text = \", \".join(goals_by_player[scorer])\n",
    "        assist_text = \"\".join(f\"({a})\" for a in assists_by_player[scorer])\n",
    "        line = f\"{scorer}: {goals_text} {assist_text}\".strip()\n",
    "        header = f\"{non_bibs_team_name}: {score[non_bibs_team_name]}   {bibs_team_name}: {score[bibs_team_name]}\"\n",
    "        overlay_text = f\"{header}\\n{line}\"\n",
    "\n",
    "        txt_clip = TextClip(\n",
    "            overlay_text,\n",
    "            fontsize=48,\n",
    "            color='white',\n",
    "            font='Arial',\n",
    "            bg_color='black',\n",
    "            size=video.size,\n",
    "            method='caption'\n",
    "        ).set_start(time).set_duration(5).set_position(\"center\")\n",
    "\n",
    "        overlays.append(txt_clip)\n",
    "\n",
    "# Combine video and overlays\n",
    "final_video = CompositeVideoClip([video] + overlays)\n",
    "final_video.write_videofile(\"match_with_live_scoreboard.mp4\", codec=\"libx264\", fps=25)"
   ]
  },
  {
   "cell_type": "code",
   "execution_count": null,
   "metadata": {},
   "outputs": [],
   "source": []
  }
 ],
 "metadata": {
  "kernelspec": {
   "display_name": ".venv (3.11.9)",
   "language": "python",
   "name": "python3"
  },
  "language_info": {
   "codemirror_mode": {
    "name": "ipython",
    "version": 3
   },
   "file_extension": ".py",
   "mimetype": "text/x-python",
   "name": "python",
   "nbconvert_exporter": "python",
   "pygments_lexer": "ipython3",
   "version": "3.11.9"
  }
 },
 "nbformat": 4,
 "nbformat_minor": 2
}
