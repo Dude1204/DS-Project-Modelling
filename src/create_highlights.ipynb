{
 "cells": [
  {
   "cell_type": "code",
   "execution_count": 2,
   "metadata": {},
   "outputs": [],
   "source": [
    "# Set team names\n",
    "non_bibs_team_name = \"Non-bibs FC\"\n",
    "bibs_team_name = \"Bibs FC\"\n",
    "\n",
    "team_dict = {\n",
    "    \"n\": non_bibs_team_name, \"b\": bibs_team_name\n",
    "}"
   ]
  },
  {
   "cell_type": "code",
   "execution_count": null,
   "metadata": {},
   "outputs": [],
   "source": [
    "from moviepy.config import change_settings\n",
    "\n",
    "change_settings({\n",
    "    \"IMAGEMAGICK_BINARY\": r\"C:\\\\Program Files\\\\ImageMagick-7.1.2-Q16-HDRI\\\\magick.exe\"\n",
    "})\n",
    "\n",
    "def mm_ss_to_seconds(time_float):\n",
    "    \"\"\"\n",
    "    Converts time from MM.SS format to total seconds.\n",
    "    Example: 1.51 → 111 seconds (1 min + 51 sec)\n",
    "    \"\"\"\n",
    "    minutes = int(time_float)\n",
    "    seconds = int(round((time_float - minutes) * 100))\n",
    "    return minutes * 60 + seconds\n",
    "\n",
    "\n",
    "def match_tracker():\n",
    "    score = {non_bibs_team_name: 0, bibs_team_name: 0}\n",
    "    events = {non_bibs_team_name: [], bibs_team_name: []}\n",
    "    \n",
    "    team, scorer, assist, time = yield  # Prime the generator\n",
    "    \n",
    "    while True:\n",
    "        if team not in score:\n",
    "            raise ValueError(f\"Team must be '{non_bibs_team_name}' or '{bibs_team_name}'\")\n",
    "        \n",
    "        score[team] += 1\n",
    "        minute = int(time)  # Round down to nearest minute\n",
    "        event_text = f\"{scorer} ({assist}) - {minute}'\" if assist else f\"{scorer} - {minute}'\"\n",
    "        events[team].append(event_text)\n",
    "        \n",
    "        # Build output string\n",
    "        output_lines = []\n",
    "        for t in [non_bibs_team_name, bibs_team_name]:\n",
    "            output_lines.append(f\"{t}: {score[t]}\")\n",
    "            output_lines.extend(events[t])\n",
    "            output_lines.append(\"\")  # Blank line between teams\n",
    "        \n",
    "        output_text = \"\\n\".join(output_lines).strip()\n",
    "        \n",
    "        # Wait for next input and yield output\n",
    "        team, scorer, assist, time = yield output_text"
   ]
  },
  {
   "cell_type": "code",
   "execution_count": 12,
   "metadata": {},
   "outputs": [
    {
     "name": "stdout",
     "output_type": "stream",
     "text": [
      "Moviepy - Building video match1_highlights_test.mp4.\n",
      "MoviePy - Writing audio in match1_highlights_testTEMP_MPY_wvf_snd.mp3\n"
     ]
    },
    {
     "name": "stderr",
     "output_type": "stream",
     "text": [
      "                                                                      \r"
     ]
    },
    {
     "name": "stdout",
     "output_type": "stream",
     "text": [
      "MoviePy - Done.\n",
      "Moviepy - Writing video match1_highlights_test.mp4\n",
      "\n"
     ]
    },
    {
     "name": "stderr",
     "output_type": "stream",
     "text": [
      "                                                                \r"
     ]
    },
    {
     "name": "stdout",
     "output_type": "stream",
     "text": [
      "Moviepy - Done !\n",
      "Moviepy - video ready match1_highlights_test.mp4\n"
     ]
    }
   ],
   "source": [
    "from moviepy.editor import VideoFileClip, TextClip, CompositeVideoClip, VideoClip\n",
    "\n",
    "# === Configure your match video ===\n",
    "video = VideoFileClip(\"..\\July 15, 2025 Game 2 - Copy.mp4\")\n",
    "\n",
    "# === Sample goal timestamps (start, end, score shown) in seconds ===\n",
    "highlights = [\n",
    "    {\"start\": 450, \"end\": 480, \"score\": \"1 - 0\"},\n",
    "    {\"start\": 1320, \"end\": 1350, \"score\": \"2 - 1\"},\n",
    "    {\"start\": 2250, \"end\": 2280, \"score\": \"3 - 2\"},\n",
    "]\n",
    "\n",
    "highlights = [\n",
    "    {\"start\": 1.51, \"end\": 2.05, \"text\": \"Kick-off\"},\n",
    "    {\"time\":7.07, \"team\":\"n\", \"scored\":\"Pavlos\",\"assist\":\"Tom\"},\n",
    "    {\"time\":8.20, \"team\":\"n\", \"scored\":\"Manzan\",\"assist\":\"Chris\"},\n",
    "    # {\"time\":10.06, \"team\":\"n\", \"scored\":\"Tom\",\"assist\":\"Alex D\"},\n",
    "    # {\"time\":20.59, \"team\":\"n\", \"scored\":\"Pavlos\"}\n",
    "]\n",
    "\n",
    "# === Create clips with score overlay ===\n",
    "highlight_clips = []\n",
    "# Create the generator\n",
    "tracker = match_tracker()\n",
    "next(tracker) \n",
    "for i, h in enumerate(highlights):\n",
    "    start = mm_ss_to_seconds(h[\"start\"] if \"start\" in h else h[\"time\"]) - 10\n",
    "    end = mm_ss_to_seconds(h[\"end\"] if \"end\" in h else h[\"time\"]) + 5\n",
    "    clip = video.subclip(start, end)\n",
    "    \n",
    "    # Create score text overlay\n",
    "\n",
    "    if \"text\" not in h:\n",
    "        text = tracker.send((team_dict[h[\"team\"]], h[\"scored\"], h[\"assist\"] if \"assist\" in h else \"\", mm_ss_to_seconds(h[\"time\"]) // 60\n",
    "))\n",
    "        text_duration = h[\"text_duration\"] if \"text_duration\" in h else 5\n",
    "    else:\n",
    "        text = h[\"text\"]\n",
    "        text_duration = h[\"text_duration\"] if \"text_duration\" in h else clip.duration\n",
    "\n",
    "    \n",
    "    txt = TextClip(\n",
    "        text, fontsize=48, color='white', font=\"Arial-Bold\", bg_color='black'\n",
    "    ).set_position((\"center\", \"bottom\")).set_duration(text_duration).set_start(clip.duration - text_duration)\n",
    "\n",
    "    # Function to generate timer frame\n",
    "    def make_timer(t, start_time=start):\n",
    "        current_time = start_time + int(t)\n",
    "        minutes = current_time // 60\n",
    "        seconds = current_time % 60\n",
    "        txt_clip = TextClip(\n",
    "            f\"{minutes}:{seconds:02d}\",\n",
    "            fontsize=36, color='white', font=\"Arial-Bold\", bg_color='black'\n",
    "        ).set_position((\"left\", \"top\")).set_duration(clip.duration)\n",
    "        \n",
    "        return txt_clip.get_frame(t)  # Return actual frame as NumPy array\n",
    "\n",
    "    # Create dynamic timer clip\n",
    "    timer_txt = VideoClip(make_timer, duration=clip.duration)\n",
    "\n",
    "    composite = CompositeVideoClip([clip, txt, timer_txt])\n",
    "    highlight_clips.append(composite)\n",
    "\n",
    "    \n",
    "\n",
    "# === Concatenate all highlight clips ===\n",
    "from moviepy.editor import concatenate_videoclips\n",
    "\n",
    "final_highlights = concatenate_videoclips(highlight_clips)\n",
    "final_highlights.write_videofile(\"match1_highlights_test.mp4\", codec=\"libx264\", fps=25)\n",
    " "
   ]
  },
  {
   "cell_type": "code",
   "execution_count": null,
   "metadata": {},
   "outputs": [],
   "source": [
    "def check(a,b,c=1):\n",
    "    print(a, b, c)\n",
    "    "
   ]
  },
  {
   "cell_type": "code",
   "execution_count": null,
   "metadata": {},
   "outputs": [],
   "source": []
  }
 ],
 "metadata": {
  "kernelspec": {
   "display_name": ".venv",
   "language": "python",
   "name": "python3"
  },
  "language_info": {
   "codemirror_mode": {
    "name": "ipython",
    "version": 3
   },
   "file_extension": ".py",
   "mimetype": "text/x-python",
   "name": "python",
   "nbconvert_exporter": "python",
   "pygments_lexer": "ipython3",
   "version": "3.11.9"
  }
 },
 "nbformat": 4,
 "nbformat_minor": 2
}
