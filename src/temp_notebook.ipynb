{
 "cells": [
  {
   "cell_type": "code",
   "execution_count": 8,
   "id": "b78f7a0a",
   "metadata": {},
   "outputs": [
    {
     "name": "stdout",
     "output_type": "stream",
     "text": [
      "320 360 1280 720 2.0\n",
      "Moviepy - Building video save_to.mp4.\n",
      "MoviePy - Writing audio in save_toTEMP_MPY_wvf_snd.mp3\n"
     ]
    },
    {
     "name": "stderr",
     "output_type": "stream",
     "text": [
      "                                                               "
     ]
    },
    {
     "name": "stdout",
     "output_type": "stream",
     "text": [
      "MoviePy - Done."
     ]
    },
    {
     "name": "stderr",
     "output_type": "stream",
     "text": [
      "\r"
     ]
    },
    {
     "name": "stdout",
     "output_type": "stream",
     "text": [
      "\n",
      "Moviepy - Writing video save_to.mp4\n",
      "\n"
     ]
    },
    {
     "name": "stderr",
     "output_type": "stream",
     "text": [
      "                                                              \r"
     ]
    },
    {
     "name": "stdout",
     "output_type": "stream",
     "text": [
      "Moviepy - Done !\n",
      "Moviepy - video ready save_to.mp4\n"
     ]
    }
   ],
   "source": [
    "from moviepy.editor import VideoFileClip, vfx,concatenate_videoclips\n",
    "def zoom_and_slowmo(clip, focal_x, focal_y, zoom_factor=2.0, slowmo_factor=0.5):\n",
    "    \"\"\"\n",
    "    Applies a zoom-in and slow-motion effect to a segment of the video.\n",
    "\n",
    "    Parameters:\n",
    "    - clip: MoviePy VideoFileClip object\n",
    "    - start_time: float, time in seconds where the effect starts\n",
    "    - duration: float, duration of the effect in seconds\n",
    "    - zoom_center: tuple (x, y), normalized coordinates (0 to 1) for zoom focal point\n",
    "    - zoom_factor: float, how much to zoom in (default 2.0)\n",
    "    - slowmo_factor: float, playback speed (0.5 = half speed)\n",
    "\n",
    "    Returns:\n",
    "    - Composite clip with zoom and slowmo effect applied to the segment\n",
    "    \"\"\"\n",
    "\n",
    "    # Get original clip size\n",
    "    w, h = clip.size\n",
    "    cx, cy = focal_x, focal_y\n",
    "    center_x, center_y = int(cx * w), int(cy * h)\n",
    "\n",
    "    # Apply zoom by cropping and resizing\n",
    "    print(center_x, center_y, w, h, zoom_factor)\n",
    "    zoomed = (\n",
    "        clip\n",
    "        .crop(\n",
    "            x_center=center_x,\n",
    "            y_center=center_y,\n",
    "            width=w / zoom_factor,\n",
    "            height=h / zoom_factor\n",
    "        )\n",
    "        .resize((w, h))  # Resize back to original size\n",
    "        .fx(vfx.speedx, slowmo_factor)  # Apply slow motion\n",
    "    )\n",
    "\n",
    "    return zoomed\n",
    "\n",
    "video = VideoFileClip(\"5th August 2025 - Game 2.mp4\")\n",
    "clip = video.subclip(2054, 2056)\n",
    "zoom_and_slowmo(clip, 0.25,0.5, zoom_factor=2.0, slowmo_factor=0.5).write_videofile(\"save_to.mp4\", codec=\"libx264\", fps=25)"
   ]
  },
  {
   "cell_type": "code",
   "execution_count": null,
   "id": "1c7c400b",
   "metadata": {},
   "outputs": [
    {
     "name": "stdout",
     "output_type": "stream",
     "text": [
      "Moviepy - Building video save_to.mp4.\n",
      "MoviePy - Writing audio in save_toTEMP_MPY_wvf_snd.mp3\n"
     ]
    },
    {
     "name": "stderr",
     "output_type": "stream",
     "text": [
      "                                                                    \r"
     ]
    },
    {
     "name": "stdout",
     "output_type": "stream",
     "text": [
      "MoviePy - Done.\n",
      "Moviepy - Writing video save_to.mp4\n",
      "\n"
     ]
    },
    {
     "name": "stderr",
     "output_type": "stream",
     "text": [
      "                                                               \r"
     ]
    },
    {
     "name": "stdout",
     "output_type": "stream",
     "text": [
      "Moviepy - Done !\n",
      "Moviepy - video ready save_to.mp4\n"
     ]
    }
   ],
   "source": [
    "from moviepy.editor import VideoFileClip, vfx,concatenate_videoclips\n",
    "\n",
    "def zoom_and_slowmo(clip, zoom_center, zoom_factor=2.0, slowmo_factor=0.5):\n",
    "    \"\"\"\n",
    "    Applies a zoom-in and slow-motion effect to a segment of the video.\n",
    "\n",
    "    Parameters:\n",
    "    - clip: MoviePy VideoFileClip object\n",
    "    - start_time: float, time in seconds where the effect starts\n",
    "    - duration: float, duration of the effect in seconds\n",
    "    - zoom_center: tuple (x, y), normalized coordinates (0 to 1) for zoom focal point\n",
    "    - zoom_factor: float, how much to zoom in (default 2.0)\n",
    "    - slowmo_factor: float, playback speed (0.5 = half speed)\n",
    "\n",
    "    Returns:\n",
    "    - Composite clip with zoom and slowmo effect applied to the segment\n",
    "    \"\"\"\n",
    "\n",
    "    # Get original clip size\n",
    "    w, h = clip.size\n",
    "    cx, cy = zoom_center\n",
    "    center_x, center_y = int(cx * w), int(cy * h)\n",
    "\n",
    "    # Apply zoom by cropping and resizing\n",
    "    zoomed = (\n",
    "        segment\n",
    "        .crop(\n",
    "            x_center=center_x,\n",
    "            y_center=center_y,\n",
    "            width=w / zoom_factor,\n",
    "            height=h / zoom_factor\n",
    "        )\n",
    "        .resize((w, h))  # Resize back to original size\n",
    "        .fx(vfx.speedx, slowmo_factor)  # Apply slow motion\n",
    "    )\n",
    "\n",
    "    return zoomed\n",
    "\n",
    "zoom_and_slowmo(\"5th August 2025 - Game 2.mp4\", 2054, 5, (0.25,0.5), zoom_factor=2.0, slowmo_factor=0.5)"
   ]
  },
  {
   "cell_type": "code",
   "execution_count": 4,
   "id": "a53f92bb",
   "metadata": {},
   "outputs": [],
   "source": [
    "zm=(1,2)\n",
    "x,y=zm"
   ]
  },
  {
   "cell_type": "code",
   "execution_count": 5,
   "id": "b2945c71",
   "metadata": {},
   "outputs": [
    {
     "data": {
      "text/plain": [
       "1"
      ]
     },
     "execution_count": 5,
     "metadata": {},
     "output_type": "execute_result"
    }
   ],
   "source": [
    "x"
   ]
  },
  {
   "cell_type": "code",
   "execution_count": null,
   "id": "e5f63559",
   "metadata": {},
   "outputs": [
    {
     "data": {
      "text/plain": [
       "2040"
      ]
     },
     "execution_count": 1,
     "metadata": {},
     "output_type": "execute_result"
    }
   ],
   "source": [
    "clip()"
   ]
  },
  {
   "cell_type": "code",
   "execution_count": null,
   "id": "7fc89cea",
   "metadata": {},
   "outputs": [],
   "source": []
  }
 ],
 "metadata": {
  "kernelspec": {
   "display_name": ".venv (3.11.9)",
   "language": "python",
   "name": "python3"
  },
  "language_info": {
   "codemirror_mode": {
    "name": "ipython",
    "version": 3
   },
   "file_extension": ".py",
   "mimetype": "text/x-python",
   "name": "python",
   "nbconvert_exporter": "python",
   "pygments_lexer": "ipython3",
   "version": "3.11.9"
  }
 },
 "nbformat": 4,
 "nbformat_minor": 5
}
